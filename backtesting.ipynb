{
 "cells": [
  {
   "cell_type": "code",
   "execution_count": 1,
   "id": "ca3e05db",
   "metadata": {},
   "outputs": [],
   "source": [
    "import requests\n",
    "import json\n",
    "import datetime as dt\n",
    "import pandas as pd\n",
    "import yfinance as yf\n",
    "import numpy as np\n",
    "import pandas_ta as ta\n",
    "import pyupbit"
   ]
  },
  {
   "cell_type": "code",
   "execution_count": 2,
   "id": "a44b0b18",
   "metadata": {},
   "outputs": [],
   "source": [
    "def get_data(symbol,interval,start):    \n",
    "    url = 'https://api.binance.com/api/v3/klines'\n",
    "    start1 = str(int(start.timestamp()*1000))\n",
    "    end = str(int((start+dt.timedelta(days = 1)).timestamp()*1000))\n",
    "    start = start1\n",
    "    par = {'symbol': symbol, 'interval': interval, 'startTime': start, 'endTime': end}\n",
    "    data = pd.DataFrame(json.loads(requests.get(url, params= par).text))\n",
    "    data.columns = ['datetime', 'Open', 'High', 'Low', 'Close', 'volume','close_time', 'qav', 'num_trades','taker_base_vol', 'taker_quote_vol', 'ignore']\n",
    "    data.index = [dt.datetime.fromtimestamp(x/1000.0) for x in data.datetime]\n",
    "    data=data.astype(float)\n",
    "    df = data.iloc[:,1:5]\n",
    "    df.index.name = \"Date Time\"\n",
    "    return df"
   ]
  },
  {
   "cell_type": "code",
   "execution_count": 3,
   "id": "35af03d8",
   "metadata": {},
   "outputs": [],
   "source": [
    "def get_data_duration(symbol,interval,start,duration):\n",
    "    start = dt.datetime(start[0],start[1],start[2]) - dt.timedelta(days = duration)\n",
    "    data = get_data(symbol,interval,start)\n",
    "    for _ in range(duration-1):\n",
    "        start = start+dt.timedelta(days = 1)\n",
    "        temp = get_data(symbol,interval,start)\n",
    "        if interval != \"1d\":\n",
    "            data = pd.concat([data,temp[1:]])\n",
    "        else:\n",
    "            data = pd.concat([data,temp])\n",
    "    return data"
   ]
  },
  {
   "cell_type": "code",
   "execution_count": 4,
   "id": "23abd7ae",
   "metadata": {},
   "outputs": [],
   "source": [
    "def rsi_bb(symbol,interval,start,duration,standard):\n",
    "    df = get_data_duration(symbol,interval,start,duration)\n",
    "    df[\"Rsi\"] = ta.rsi(close = df.Close,length = 14) \n",
    "    bb = ta.bbands(close = df['Close'],length = 20,std = standard).iloc[:,0:3]\n",
    "    df[\"BB_LOW\"] = bb.iloc[:,0]\n",
    "    df[\"BB_MID\"] = bb.iloc[:,1]\n",
    "    df[\"BB_HIGH\"] = bb.iloc[:,2]\n",
    "    df = df.dropna()\n",
    "    return df"
   ]
  },
  {
   "cell_type": "code",
   "execution_count": 5,
   "id": "790a7237",
   "metadata": {},
   "outputs": [],
   "source": [
    "def get_data_duration2(symbol,interval,start,duration):\n",
    "    start = dt.datetime(start[0],start[1],start[2])\n",
    "    data = get_data(symbol,interval,start)\n",
    "    for _ in range(duration-1):\n",
    "        start = start+dt.timedelta(days = 1)\n",
    "        temp = get_data(symbol,interval,start)\n",
    "        if interval != \"1d\":\n",
    "            data = pd.concat([data,temp[1:]])\n",
    "        else:\n",
    "            data = pd.concat([data,temp])\n",
    "    return data"
   ]
  },
  {
   "cell_type": "code",
   "execution_count": 6,
   "id": "820f4c01",
   "metadata": {},
   "outputs": [],
   "source": [
    "def get_upbit_binance(upticker,upinterval,biticker,biinterval,date,duration):\n",
    "    df1 = pyupbit.get_ohlcv(ticker=upticker,interval=upinterval,to=f\"{date[0]}-{date[1]}-{date[2]}\",count=duration).iloc[:,0:4]\n",
    "    df1=df1.rename(columns={'open':'Open','high':'High','low':'Low','close':'Close'})\n",
    "    df2 = get_data_duration(biticker,biinterval,date,duration)\n",
    "    return df1,df2\n",
    "    "
   ]
  },
  {
   "cell_type": "code",
   "execution_count": 7,
   "id": "5d228995",
   "metadata": {},
   "outputs": [],
   "source": [
    "def get_5min_data(upticker,biticker,date):\n",
    "    a = pyupbit.get_ohlcv(ticker = upticker,interval = \"minute5\",to = f\"{date[0]}-{date[1]}-{date[2]} 15:05\",count = 289)\n",
    "    b = get_data_duration2(biticker,\"5m\",date,1)\n",
    "    df=pd.merge(a[\"close\"], b[\"Close\"], left_index=True, right_index=True)\n",
    "    df[\"usd/krw\"] = df[\"Close\"].div(df[\"close\"])*1304\n",
    "    df = df[:-1]\n",
    "    df=df.rename(columns={'close':'upclose','Close':'biclose'})\n",
    "    return df"
   ]
  },
  {
   "cell_type": "code",
   "execution_count": 8,
   "id": "ae5623aa",
   "metadata": {},
   "outputs": [],
   "source": [
    "def rebalance(usd,krw,ku):\n",
    "    temp = usd*ku + krw\n",
    "    krw = temp/2\n",
    "    usd = krw/ku\n",
    "    return usd,krw\n",
    "    "
   ]
  },
  {
   "cell_type": "code",
   "execution_count": 25,
   "id": "ed905ee8",
   "metadata": {},
   "outputs": [],
   "source": [
    "def kimp(start,duration,uptick,bitick):\n",
    "    start_date = dt.datetime(start[0],start[1],start[2])\n",
    "    end_date = start_date + dt.timedelta(days = duration+6)\n",
    "    df1,df2 = get_upbit_binance(uptick,\"day1\",bitick,\"1d\",(end_date.year,end_date.month,end_date.day),duration+12)\n",
    "    df3 = (df2[\"Close\"].div(df1[\"Close\"])*1304).to_frame()\n",
    "    krw_usd = yf.download(\"KRW=X\",start = f\"{start_date.year}-{start_date.month}-{start_date.day}\",end = f\"{end_date.year}-{end_date.month}-{end_date.day}\")\n",
    "    krw_usd = krw_usd[\"Close\"]\n",
    "    usd = 1000\n",
    "    krw = 1000*krw_usd[start_date]\n",
    "    start_bal = 2*krw\n",
    "    forex = krw_usd[start_date]\n",
    "    flag = True\n",
    "    history = []\n",
    "    \n",
    "    \n",
    "    \n",
    "    for j in range(duration):\n",
    "        cur_date = start_date + dt.timedelta(days = j)\n",
    "        cur = (cur_date.year,cur_date.month,cur_date.day)\n",
    "        df = get_5min_data(uptick,bitick,cur)\n",
    "        past4 = [cur_date-dt.timedelta(days=5),cur_date-dt.timedelta(days=4),cur_date-dt.timedelta(days=3),cur_date-dt.timedelta(days=2)]\n",
    "        past4 = [df3.loc[past4[0].strftime('%Y-%m-%d'),\"Close\"].item(),df3.loc[past4[1].strftime('%Y-%m-%d'),\"Close\"].item(),df3.loc[past4[2].strftime('%Y-%m-%d'),\"Close\"].item(),df3.loc[past4[3].strftime('%Y-%m-%d'),\"Close\"].item()]\n",
    "        for i in df.index:\n",
    "            cur_price = df.loc[i,\"usd/krw\"].item()\n",
    "            mean = (past4[0]+past4[1]+past4[2]+past4[3]+cur_price)/5\n",
    "            std = np.std([past4[0],past4[1],past4[2],past4[3],cur_price])\n",
    "            bh = mean+std*1.3\n",
    "            bl = mean-std*1.3\n",
    "            if not bh>cur_price>bl:\n",
    "                if bl>cur_price and flag:\n",
    "                    history.append([i,df.loc[i,\"upclose\"].item(),df.loc[i,\"biclose\"].item()])\n",
    "                    flag = not flag\n",
    "                elif bh<cur_price and not flag:\n",
    "                    history.append([i,df.loc[i,\"upclose\"].item(),df.loc[i,\"biclose\"].item()])\n",
    "                    flag = not flag\n",
    "    sum = 0\n",
    "    bal = 100\n",
    "    for i,arr in enumerate(history[:-1]):\n",
    "        pc = (history[i+1][1]-history[i][1])/history[i][1] - (history[i+1][2]-history[i][2])/history[i][2]\n",
    "        if i%2 ==0:\n",
    "            pc = -pc\n",
    "        print(history[i][0],history[i+1][0],pc*100)\n",
    "        print(history[i][1],history[i][2],history[i+1][1],history[i+1][2])\n",
    "        sum+=pc*100 - 0.20\n",
    "        bal*=(pc-0.0025)/2+1\n",
    "    if cur_date not in krw_usd.index:\n",
    "        cur_date = cur_date - dt.timedelta(days=2)\n",
    "    print(f\"sum = {sum}\",forex,krw_usd[cur_date])\n",
    "    print(bal)\n",
    "            \n",
    "            \n",
    "            \n",
    "              \n",
    "    "
   ]
  },
  {
   "cell_type": "code",
   "execution_count": 32,
   "id": "6db0230e",
   "metadata": {},
   "outputs": [
    {
     "name": "stdout",
     "output_type": "stream",
     "text": [
      "[*********************100%***********************]  1 of 1 completed\n",
      "2022-06-15 16:55:00 2022-06-16 00:50:00 1.2398717613623267\n",
      "63.1 0.0479 72.0 0.05525\n",
      "2022-06-16 00:50:00 2022-06-16 01:50:00 0.5717697335344496\n",
      "72.0 0.05525 70.9 0.05409\n",
      "2022-06-16 01:50:00 2022-06-16 04:05:00 0.6998209378351758\n",
      "70.9 0.05409 77.6 0.05958\n",
      "2022-06-16 04:05:00 2022-06-16 18:05:00 0.6855548980319368\n",
      "77.6 0.05958 79.2 0.0604\n",
      "2022-06-16 18:05:00 2022-06-20 05:30:00 1.4194929426717446\n",
      "79.2 0.0604 80.2 0.06202\n",
      "2022-06-20 05:30:00 2022-06-29 03:10:00 1.4219530181318663\n",
      "80.2 0.06202 86.5 0.06601\n",
      "2022-06-29 03:10:00 2022-07-08 00:55:00 0.41794333140976575\n",
      "86.5 0.06601 89.1 0.06827\n",
      "2022-07-08 00:55:00 2022-07-11 00:20:00 0.9178581709219884\n",
      "89.1 0.06827 89.2 0.06772\n",
      "2022-07-11 00:20:00 2022-07-18 14:15:00 0.3447325971621569\n",
      "89.2 0.06772 91.0 0.06932\n",
      "2022-07-18 14:15:00 2022-07-21 02:10:00 0.8952588092807523\n",
      "91.0 0.06932 90.2 0.06809\n",
      "2022-07-21 02:10:00 2022-07-21 08:00:00 0.8831567974954333\n",
      "90.2 0.06809 88.9 0.06771\n",
      "2022-07-21 08:00:00 2022-07-21 11:25:00 0.8895709037699446\n",
      "88.9 0.06771 89.1 0.06726\n",
      "sum = 7.986983901607541 1289.47998046875 1312.8699951171875\n",
      "103.75488642900658\n"
     ]
    }
   ],
   "source": [
    "kimp((2022,6,15),37,\"KRW-TRX\",\"TRXBUSD\")"
   ]
  },
  {
   "cell_type": "code",
   "execution_count": null,
   "id": "bf81c0c3",
   "metadata": {},
   "outputs": [],
   "source": []
  }
 ],
 "metadata": {
  "kernelspec": {
   "display_name": "Python 3 (ipykernel)",
   "language": "python",
   "name": "python3"
  },
  "language_info": {
   "codemirror_mode": {
    "name": "ipython",
    "version": 3
   },
   "file_extension": ".py",
   "mimetype": "text/x-python",
   "name": "python",
   "nbconvert_exporter": "python",
   "pygments_lexer": "ipython3",
   "version": "3.10.5"
  }
 },
 "nbformat": 4,
 "nbformat_minor": 5
}
